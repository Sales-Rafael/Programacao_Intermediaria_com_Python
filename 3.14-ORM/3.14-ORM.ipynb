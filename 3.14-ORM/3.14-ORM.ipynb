{
 "cells": [
  {
   "cell_type": "markdown",
   "metadata": {},
   "source": [
    "> Projeto Desenvolve <br>\n",
    "Programação Intermediária com Python <br>\n",
    "Profa. Camila Laranjeira (mila@projetodesenvolve.com.br) <br>\n",
    "\n",
    "# 3.14 - ORM"
   ]
  },
  {
   "cell_type": "markdown",
   "metadata": {},
   "source": [
    "## Exercícios\n",
    "\n",
    "#### Q1. Conhecendo os dados\n",
    "Baixe o seguinte csv onde iremos trabalhar. Ele contém informações sobre salários de profissionais de dados de uma empresa hipotética entre 2009 e 2016\n",
    "* https://github.com/camilalaranjeira/python-intermediario/blob/main/salaries.csv\n",
    "\n",
    "Suas colunas, descritas na [página do Kaggle que contém o dataset](https://www.kaggle.com/datasets/krishujeniya/salary-prediction-of-data-professions?resource=download), são:\n",
    "* FIRST NAME: Primeiro nome do profissional de dados (String)\n",
    "* LAST NAME: Sobrenome do profissional de dados (String)\n",
    "* SEX: Gênero do profissional de dados (String: 'F' para Feminino, 'M' para Masculino)\n",
    "* DOJ (Date of Joining): A data em que o profissional de dados ingressou na empresa (Data no formato MM/DD/AAAA)\n",
    "* CURRENT DATE: A data atual ou a data de referência dos dados (Data no formato MM/DD/AAAA)\n",
    "* DESIGNATION: O cargo ou designação do profissional de dados (String: ex., Analista, Analista Sênior, Gerente)\n",
    "* AGE: Idade do profissional de dados (Integer)\n",
    "* SALARY: Salário anual do profissional de dados (Float)\n",
    "* UNIT: Unidade de negócios ou departamento em que o profissional de dados trabalha (String: ex., TI, Finanças, Marketing)\n",
    "* LEAVES USED: Número de licenças utilizadas pelo profissional de dados (Integer)\n",
    "* LEAVES REMAINING: Número de licenças restantes para o profissional de dados (Integer)\n",
    "* RATINGS: Avaliações de desempenho do profissional de dados (Float)\n",
    "* PAST EXP: Experiência de trabalho anterior em anos antes de ingressar na empresa atual (Float)\n",
    "\n",
    "Na célula a seguir, **carregue os dados do CSV e dê uma olhada neles antes de seguir**."
   ]
  },
  {
   "cell_type": "code",
   "execution_count": 1,
   "metadata": {},
   "outputs": [],
   "source": [
    "### Escreva sua resposta aqui\n",
    "import pandas as pd\n",
    "df = pd.read_csv('salaries.csv')"
   ]
  },
  {
   "cell_type": "markdown",
   "metadata": {},
   "source": [
    "#### Q2. Modelando os dados\n",
    "Você deve **criar um ORM com SQLAlchemy capaz de comportar os dados dessa base**.\n",
    "\n",
    "* Crie um campo de chave primária `ID`, que deve ser incrementado automaticamente\n",
    "* Os campos SEX, DESIGNATION e UNIT devem ser definidos como classes `Enum` com os possíveis valores (consulte os valores únicos dessas colunas)\n",
    "* Para os outros campos, consulte os tipos de dados informados na descrição acima"
   ]
  },
  {
   "cell_type": "code",
   "execution_count": 2,
   "metadata": {},
   "outputs": [
    {
     "name": "stderr",
     "output_type": "stream",
     "text": [
      "C:\\Users\\PDITA157\\AppData\\Local\\Temp\\ipykernel_17560\\605145113.py:6: MovedIn20Warning: The ``declarative_base()`` function is now available as sqlalchemy.orm.declarative_base(). (deprecated since: 2.0) (Background on SQLAlchemy 2.0 at: https://sqlalche.me/e/b8d9)\n",
      "  Base = declarative_base()\n"
     ]
    }
   ],
   "source": [
    "### Escreva sua resposta aqui\n",
    "from sqlalchemy import Column, Integer, String, Float, Enum\n",
    "from sqlalchemy.ext.declarative import declarative_base\n",
    "import enum\n",
    "\n",
    "Base = declarative_base()\n",
    "\n",
    "# Exemplo de Enum para SEX\n",
    "class SexEnum(enum.Enum):\n",
    "    MALE = \"Male\"\n",
    "    FEMALE = \"Female\"\n",
    "\n",
    "# Exemplo de Enum para DESIGNATION\n",
    "class DesignationEnum(enum.Enum):\n",
    "    INTERN = \"Intern\"\n",
    "    MANAGER = \"Manager\"\n",
    "    DIRECTOR = \"Director\"\n",
    "\n",
    "# Exemplo de Enum para UNIT\n",
    "class UnitEnum(enum.Enum):\n",
    "    HR = \"HR\"\n",
    "    SALES = \"Sales\"\n",
    "    TECH = \"Tech\"\n",
    "\n",
    "# Classe ORM\n",
    "class Employee(Base):\n",
    "    __tablename__ = 'employees'\n",
    "\n",
    "    id = Column(Integer, primary_key=True, autoincrement=True)\n",
    "    name = Column(String)\n",
    "    age = Column(Integer)\n",
    "    salary = Column(Float)\n",
    "    sex = Column(Enum(SexEnum))\n",
    "    designation = Column(Enum(DesignationEnum))\n",
    "    unit = Column(Enum(UnitEnum))\n",
    "\n"
   ]
  },
  {
   "cell_type": "markdown",
   "metadata": {
    "vscode": {
     "languageId": "plaintext"
    }
   },
   "source": [
    "#### Q3. Estabelecendo uma conexão\n",
    "\n",
    "Usando o método `create_engine` do SQLAlchemy, crie uma conexão com um novo banco de dados SQLite chamado `salarios`."
   ]
  },
  {
   "cell_type": "code",
   "execution_count": 3,
   "metadata": {},
   "outputs": [],
   "source": [
    "### Escreva sua resposta aqui\n",
    "from sqlalchemy import create_engine, URL\n",
    "from sqlalchemy import text\n",
    "\n",
    "engine = create_engine(\"sqlite+pysqlite:///salarios.sqlite\", echo=True)"
   ]
  },
  {
   "cell_type": "markdown",
   "metadata": {},
   "source": [
    "#### Q4. Criando as tabelas\n",
    "Crie as tabelas da questão Q2 no banco `salarios`."
   ]
  },
  {
   "cell_type": "code",
   "execution_count": 4,
   "metadata": {},
   "outputs": [
    {
     "name": "stdout",
     "output_type": "stream",
     "text": [
      "2025-05-14 20:33:06,608 INFO sqlalchemy.engine.Engine BEGIN (implicit)\n",
      "2025-05-14 20:33:06,610 INFO sqlalchemy.engine.Engine PRAGMA main.table_info(\"employees\")\n",
      "2025-05-14 20:33:06,614 INFO sqlalchemy.engine.Engine [raw sql] ()\n",
      "2025-05-14 20:33:06,616 INFO sqlalchemy.engine.Engine COMMIT\n"
     ]
    }
   ],
   "source": [
    "### Escreva sua resposta aqui\n",
    "# Cria as tabelas no banco\n",
    "Base.metadata.create_all(engine)"
   ]
  },
  {
   "cell_type": "markdown",
   "metadata": {},
   "source": [
    "#### Q5. Populando\n",
    "\n",
    "Usando o método `to_sql` da biblioteca Pandas (veja [a documentação](https://pandas.pydata.org/docs/reference/api/pandas.DataFrame.to_sql.html)), popule o banco `salarios` com os dados do csv que você carregou na questão Q1.\n",
    "* Lembre-se de definir o parâmetro `if_exists='append'` para que as tabelas não sejam dropadas e recriadas."
   ]
  },
  {
   "cell_type": "code",
   "execution_count": 10,
   "metadata": {},
   "outputs": [
    {
     "name": "stdout",
     "output_type": "stream",
     "text": [
      "2025-05-14 20:35:07,534 INFO sqlalchemy.engine.Engine BEGIN (implicit)\n",
      "2025-05-14 20:35:07,544 INFO sqlalchemy.engine.Engine PRAGMA main.table_info(\"salaries\")\n",
      "2025-05-14 20:35:07,544 INFO sqlalchemy.engine.Engine [raw sql] ()\n",
      "2025-05-14 20:35:07,544 INFO sqlalchemy.engine.Engine PRAGMA temp.table_info(\"salaries\")\n",
      "2025-05-14 20:35:07,544 INFO sqlalchemy.engine.Engine [raw sql] ()\n",
      "2025-05-14 20:35:07,554 INFO sqlalchemy.engine.Engine \n",
      "CREATE TABLE salaries (\n",
      "\t\"FIRST NAME\" TEXT, \n",
      "\t\"LAST NAME\" TEXT, \n",
      "\t\"SEX\" TEXT, \n",
      "\t\"DOJ\" TEXT, \n",
      "\t\"CURRENT DATE\" TEXT, \n",
      "\t\"DESIGNATION\" TEXT, \n",
      "\t\"AGE\" FLOAT, \n",
      "\t\"SALARY\" BIGINT, \n",
      "\t\"UNIT\" TEXT, \n",
      "\t\"LEAVES USED\" FLOAT, \n",
      "\t\"LEAVES REMAINING\" FLOAT, \n",
      "\t\"RATINGS\" FLOAT, \n",
      "\t\"PAST EXP\" BIGINT\n",
      ")\n",
      "\n",
      "\n",
      "2025-05-14 20:35:07,559 INFO sqlalchemy.engine.Engine [no key 0.00280s] ()\n",
      "2025-05-14 20:35:07,624 INFO sqlalchemy.engine.Engine INSERT INTO salaries (\"FIRST NAME\", \"LAST NAME\", \"SEX\", \"DOJ\", \"CURRENT DATE\", \"DESIGNATION\", \"AGE\", \"SALARY\", \"UNIT\", \"LEAVES USED\", \"LEAVES REMAINING\", \"RATINGS\", \"PAST EXP\") VALUES (?, ?, ?, ?, ?, ?, ?, ?, ?, ?, ?, ?, ?)\n",
      "2025-05-14 20:35:07,624 INFO sqlalchemy.engine.Engine [generated in 0.03117s] [('TOMASA', 'ARMEN', 'F', '5-18-2014', '01-07-2016', 'Analyst', 21.0, 44570, 'Finance', 24.0, 6.0, 2.0, 0), ('ANNIE', None, 'F', None, '01-07-2016', 'Associate', None, 89207, 'Web', None, 13.0, None, 7), ('OLIVE', 'ANCY', 'F', '7-28-2014', '01-07-2016', 'Analyst', 21.0, 40955, 'Finance', 23.0, 7.0, 3.0, 0), ('CHERRY', 'AQUILAR', 'F', '04-03-2013', '01-07-2016', 'Analyst', 22.0, 45550, 'IT', 22.0, 8.0, 3.0, 0), ('LEON', 'ABOULAHOUD', 'M', '11-20-2014', '01-07-2016', 'Analyst', None, 43161, 'Operations', 27.0, 3.0, None, 3), ('VICTORIA', None, 'F', '2-19-2013', '01-07-2016', 'Analyst', 22.0, 48736, 'Marketing', 20.0, 10.0, 4.0, 0), ('ELLIOT', 'AGULAR', 'M', '09-02-2013', '01-07-2016', 'Analyst', 22.0, 40339, 'Marketing', 19.0, 11.0, 5.0, 0), ('JACQUES', 'AKMAL', 'M', '12-05-2013', '01-07-2016', 'Analyst', None, 40058, 'Marketing', 29.0, 1.0, 2.0, 2)  ... displaying 10 of 2639 total bound parameter sets ...  ('TERI', 'ANASTASIO', 'F', '3-17-2014', '01-07-2016', 'Analyst', 24.0, 45172, 'Web', 23.0, 7.0, 3.0, 1), ('GREGORY', 'ABARCA', 'M', '9-18-2014', '01-07-2016', 'Analyst', 24.0, 49176, 'Marketing', 17.0, 13.0, 2.0, 2)]\n",
      "2025-05-14 20:35:07,639 INFO sqlalchemy.engine.Engine COMMIT\n",
      "Dados inseridos com sucesso!\n"
     ]
    }
   ],
   "source": [
    "### Escreva sua resposta aqui\n",
    "df.to_sql(name=\"salaries\", con=engine, if_exists=\"append\", index=False)\n",
    "\n",
    "print(\"Dados inseridos com sucesso!\")"
   ]
  },
  {
   "cell_type": "markdown",
   "metadata": {},
   "source": [
    "#### Q6. Consultas SQL vs ORM\n",
    "\n",
    "Agrupe os dados por DESIGNATION e selecione o mínimo, máximo e a média dos salários (SALARY) divididos por 12. Já que o atributo SALARY é anual, dividir por 12 nos mostrará os valores mensais.\n",
    "\n",
    "Assumindo que a variável que armazena a sua conexão se chama `engine`, você deve realizar a query acima de três formas:\n",
    "* Executando a query SQL através de uma instância de conexão retornada pelo método `engine.connect()`\n",
    "* Executando a query SQL com o método `read_sql_query` do Pandas (veja [a documentação](https://pandas.pydata.org/docs/reference/api/pandas.read_sql_query.html)). Você usará mesma instância `engine.connect()` como um dos parâmetros.\n",
    "* Executando uma query criada com o módulo `select` do SQLAlchemy. Sua execução deve ser feita através de um objeto `Session` do módulo `orm` do SQLAlchemy (`Session(engine)`).\n"
   ]
  },
  {
   "cell_type": "code",
   "execution_count": 11,
   "metadata": {},
   "outputs": [
    {
     "name": "stdout",
     "output_type": "stream",
     "text": [
      "2025-05-14 20:36:07,634 INFO sqlalchemy.engine.Engine BEGIN (implicit)\n",
      "2025-05-14 20:36:07,637 INFO sqlalchemy.engine.Engine \n",
      "        SELECT \n",
      "            designation,\n",
      "            MIN(salary / 12.0) AS min_sal_mensal,\n",
      "            MAX(salary / 12.0) AS max_sal_mensal,\n",
      "            AVG(salary / 12.0) AS media_sal_mensal\n",
      "        FROM employees\n",
      "        GROUP BY designation\n",
      "    \n",
      "2025-05-14 20:36:07,639 INFO sqlalchemy.engine.Engine [generated in 0.00597s] ()\n",
      "2025-05-14 20:36:07,644 INFO sqlalchemy.engine.Engine ROLLBACK\n"
     ]
    }
   ],
   "source": [
    "### Execute aqui sua query SQL com SQLAlchemy\n",
    "from sqlalchemy import text\n",
    "\n",
    "# Cria a conexão\n",
    "with engine.connect() as conn:\n",
    "    result = conn.execute(text(\"\"\"\n",
    "        SELECT \n",
    "            designation,\n",
    "            MIN(salary / 12.0) AS min_sal_mensal,\n",
    "            MAX(salary / 12.0) AS max_sal_mensal,\n",
    "            AVG(salary / 12.0) AS media_sal_mensal\n",
    "        FROM employees\n",
    "        GROUP BY designation\n",
    "    \"\"\"))\n",
    "\n",
    "    for row in result:\n",
    "        print(row)\n"
   ]
  },
  {
   "cell_type": "code",
   "execution_count": 12,
   "metadata": {},
   "outputs": [
    {
     "name": "stdout",
     "output_type": "stream",
     "text": [
      "2025-05-14 20:38:16,674 INFO sqlalchemy.engine.Engine BEGIN (implicit)\n",
      "2025-05-14 20:38:16,674 INFO sqlalchemy.engine.Engine \n",
      "        SELECT \n",
      "            designation,\n",
      "            MIN(salary / 12.0) AS min_sal_mensal,\n",
      "            MAX(salary / 12.0) AS max_sal_mensal,\n",
      "            AVG(salary / 12.0) AS media_sal_mensal\n",
      "        FROM employees\n",
      "        GROUP BY designation\n",
      "    \n",
      "2025-05-14 20:38:16,676 INFO sqlalchemy.engine.Engine [raw sql] ()\n",
      "2025-05-14 20:38:16,696 INFO sqlalchemy.engine.Engine ROLLBACK\n",
      "Empty DataFrame\n",
      "Columns: [designation, min_sal_mensal, max_sal_mensal, media_sal_mensal]\n",
      "Index: []\n"
     ]
    }
   ],
   "source": [
    "### Execute aqui sua query SQL com SQLAlchemy + Pandas\n",
    "import pandas as pd\n",
    "\n",
    "with engine.connect() as conn:\n",
    "    df = pd.read_sql_query(\"\"\"\n",
    "        SELECT \n",
    "            designation,\n",
    "            MIN(salary / 12.0) AS min_sal_mensal,\n",
    "            MAX(salary / 12.0) AS max_sal_mensal,\n",
    "            AVG(salary / 12.0) AS media_sal_mensal\n",
    "        FROM employees\n",
    "        GROUP BY designation\n",
    "    \"\"\", conn)\n",
    "\n",
    "print(df)\n"
   ]
  },
  {
   "cell_type": "code",
   "execution_count": 13,
   "metadata": {},
   "outputs": [
    {
     "name": "stdout",
     "output_type": "stream",
     "text": [
      "2025-05-14 20:40:06,191 INFO sqlalchemy.engine.Engine BEGIN (implicit)\n",
      "2025-05-14 20:40:06,200 INFO sqlalchemy.engine.Engine SELECT employees.designation, min(employees.salary / (? + 0.0)) AS min_sal_mensal, max(employees.salary / (? + 0.0)) AS max_sal_mensal, avg(employees.salary / (? + 0.0)) AS media_sal_mensal \n",
      "FROM employees GROUP BY employees.designation\n",
      "2025-05-14 20:40:06,202 INFO sqlalchemy.engine.Engine [generated in 0.00163s] (12, 12, 12)\n",
      "2025-05-14 20:40:06,206 INFO sqlalchemy.engine.Engine ROLLBACK\n"
     ]
    }
   ],
   "source": [
    "### Execute aqui sua query com SQLAlchemy ORM\n",
    "from sqlalchemy import select, func\n",
    "from sqlalchemy.orm import Session\n",
    "\n",
    "with Session(engine) as session:\n",
    "    stmt = (\n",
    "        select(\n",
    "            Employee.designation,\n",
    "            func.min(Employee.salary / 12).label(\"min_sal_mensal\"),\n",
    "            func.max(Employee.salary / 12).label(\"max_sal_mensal\"),\n",
    "            func.avg(Employee.salary / 12).label(\"media_sal_mensal\"),\n",
    "        )\n",
    "        .group_by(Employee.designation)\n",
    "    )\n",
    "\n",
    "    results = session.execute(stmt)\n",
    "\n",
    "    for row in results:\n",
    "        print(row)\n"
   ]
  }
 ],
 "metadata": {
  "kernelspec": {
   "display_name": "Python 3",
   "language": "python",
   "name": "python3"
  },
  "language_info": {
   "codemirror_mode": {
    "name": "ipython",
    "version": 3
   },
   "file_extension": ".py",
   "mimetype": "text/x-python",
   "name": "python",
   "nbconvert_exporter": "python",
   "pygments_lexer": "ipython3",
   "version": "3.12.6"
  }
 },
 "nbformat": 4,
 "nbformat_minor": 2
}
